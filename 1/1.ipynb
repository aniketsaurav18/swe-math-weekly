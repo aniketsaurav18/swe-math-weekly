{
 "cells": [
  {
   "cell_type": "code",
   "execution_count": 1,
   "id": "46999b52-cabe-4aa8-951b-386e579f2f5e",
   "metadata": {},
   "outputs": [],
   "source": [
    "import numpy as np\n",
    "from typing import List"
   ]
  },
  {
   "cell_type": "code",
   "execution_count": 2,
   "id": "1965823e-ba64-4142-ad0c-0d48ce216cf7",
   "metadata": {},
   "outputs": [],
   "source": [
    "def can_unlock_library(keys: List[List[float]], tolerance: float = 1e-10) -> bool:\n",
    "    \"\"\"\n",
    "    Args:\n",
    "        keys: List of n vectors, each being a list of n floating-point numbers\n",
    "        precision: Threshold for numerical calculations (default: 1e-10)\n",
    "\n",
    "    Returns:\n",
    "        bool: True if keys can unlock the library, False otherwise\n",
    "    \"\"\"\n",
    "    # Convert to numpy array for better numerical operations\n",
    "    vectors = np.array(keys, dtype=float)\n",
    "    n_vectors, dimension = vectors.shape\n",
    "    print(\"number of vectors =\", n_vectors)\n",
    "    print(\"number of dimensions =\", dimension)\n",
    "    \n",
    "    # Check 1: Number of vectors should match the dimension for a basis\n",
    "    if n_vectors != dimension:\n",
    "        return False\n",
    "    print(\"number of vectors = number of dimensions\")\n",
    "    \n",
    "    # Check 2: Linear Independence using QR decomposition\n",
    "    Q, R = np.linalg.qr(vectors.T)\n",
    "\n",
    "    print(\"QR Decomposition done\")\n",
    "    print(\"Q: Orthogonal Matrix is\", Q)\n",
    "    print(\"R: Upper Triangular Matrix\", R)\n",
    "    \n",
    "    diagonal = np.abs(np.diag(R))\n",
    "    \n",
    "    # If any diagonal element is close to zero, vectors are linearly dependent\n",
    "    is_independent = np.all(diagonal > tolerance)\n",
    "    print(\"are vectors independent?\", is_independent)\n",
    "    \n",
    "    return is_independent"
   ]
  },
  {
   "cell_type": "code",
   "execution_count": 3,
   "id": "4b442564-1ae6-45a8-83a2-b0a402472560",
   "metadata": {},
   "outputs": [
    {
     "name": "stdout",
     "output_type": "stream",
     "text": [
      "number of vectors = 3\n",
      "number of dimensions = 3\n",
      "number of vectors = number of dimensions\n",
      "QR Decomposition done\n",
      "Q: Orthogonal Matrix is [[ 1.  0.  0.]\n",
      " [-0.  1.  0.]\n",
      " [-0. -0.  1.]]\n",
      "R: Upper Triangular Matrix [[1. 0. 0.]\n",
      " [0. 1. 0.]\n",
      " [0. 0. 1.]]\n",
      "are vectors independent? True\n"
     ]
    },
    {
     "data": {
      "text/plain": [
       "np.True_"
      ]
     },
     "execution_count": 3,
     "metadata": {},
     "output_type": "execute_result"
    }
   ],
   "source": [
    "can_unlock_library([\n",
    "    [1, 0, 0],\n",
    "    [0, 1, 0],\n",
    "    [0, 0, 1]\n",
    "])can_unlock_library([\n",
    "    [2, 0, 0],\n",
    "    [0, 2, 0],\n",
    "    [4, 4, 0]\n",
    "])"
   ]
  },
  {
   "cell_type": "code",
   "execution_count": 4,
   "id": "9c803523-c746-4b34-a567-2207193f8d23",
   "metadata": {},
   "outputs": [
    {
     "name": "stdout",
     "output_type": "stream",
     "text": [
      "number of vectors = 3\n",
      "number of dimensions = 3\n",
      "number of vectors = number of dimensions\n",
      "QR Decomposition done\n",
      "Q: Orthogonal Matrix is [[ 1.  0.  0.]\n",
      " [-0.  1.  0.]\n",
      " [-0. -0.  1.]]\n",
      "R: Upper Triangular Matrix [[2. 0. 4.]\n",
      " [0. 2. 4.]\n",
      " [0. 0. 0.]]\n",
      "are vectors independent? False\n"
     ]
    },
    {
     "data": {
      "text/plain": [
       "np.False_"
      ]
     },
     "execution_count": 4,
     "metadata": {},
     "output_type": "execute_result"
    }
   ],
   "source": [
    "can_unlock_library([\n",
    "    [2, 0, 0],\n",
    "    [0, 2, 0],\n",
    "    [4, 4, 0]\n",
    "])"
   ]
  },
  {
   "cell_type": "code",
   "execution_count": 5,
   "id": "69273e64-a794-4830-b823-86b9655ad69e",
   "metadata": {},
   "outputs": [
    {
     "name": "stdout",
     "output_type": "stream",
     "text": [
      "number of vectors = 3\n",
      "number of dimensions = 3\n",
      "number of vectors = number of dimensions\n",
      "QR Decomposition done\n",
      "Q: Orthogonal Matrix is [[-0.34874292  0.24534987 -0.90453403]\n",
      " [ 0.46499055 -0.79266882 -0.39428407]\n",
      " [-0.81373347 -0.55810356  0.16235226]]\n",
      "R: Upper Triangular Matrix [[-8.60232527  2.20870514  1.27872403]\n",
      " [ 0.         -5.01214741  1.56107227]\n",
      " [ 0.          0.         -6.70282912]]\n",
      "are vectors independent? True\n"
     ]
    },
    {
     "data": {
      "text/plain": [
       "np.True_"
      ]
     },
     "execution_count": 5,
     "metadata": {},
     "output_type": "execute_result"
    }
   ],
   "source": [
    "can_unlock_library([\n",
    "    [3, -4, 7],\n",
    "    [-2, 5, 1],\n",
    "    [6, 2, -3]\n",
    "])"
   ]
  },
  {
   "cell_type": "code",
   "execution_count": 6,
   "id": "5d041803-83b3-4f98-b774-7bd3ddd4f252",
   "metadata": {},
   "outputs": [
    {
     "data": {
      "text/plain": [
       "array([  4.48096886, 279.23529412, 157.78546713])"
      ]
     },
     "execution_count": 6,
     "metadata": {},
     "output_type": "execute_result"
    }
   ],
   "source": [
    "np.linalg.solve([\n",
    "    [3, -4, 7],\n",
    "    [-2, 5, 1],\n",
    "    [6, 2, -3]\n",
    "], [1,1545,112])"
   ]
  },
  {
   "cell_type": "code",
   "execution_count": 7,
   "id": "458ea08e-975b-4535-a9d4-efce45909f5f",
   "metadata": {},
   "outputs": [
    {
     "name": "stdout",
     "output_type": "stream",
     "text": [
      "number of vectors = 2\n",
      "number of dimensions = 3\n"
     ]
    },
    {
     "data": {
      "text/plain": [
       "False"
      ]
     },
     "execution_count": 7,
     "metadata": {},
     "output_type": "execute_result"
    }
   ],
   "source": [
    "can_unlock_library([\n",
    "    [1, 0, 0],\n",
    "    [0, 1, 0],\n",
    "])"
   ]
  }
 ],
 "metadata": {
  "kernelspec": {
   "display_name": "Python 3 (ipykernel)",
   "language": "python",
   "name": "python3"
  },
  "language_info": {
   "codemirror_mode": {
    "name": "ipython",
    "version": 3
   },
   "file_extension": ".py",
   "mimetype": "text/x-python",
   "name": "python",
   "nbconvert_exporter": "python",
   "pygments_lexer": "ipython3",
   "version": "3.12.3"
  }
 },
 "nbformat": 4,
 "nbformat_minor": 5
}
